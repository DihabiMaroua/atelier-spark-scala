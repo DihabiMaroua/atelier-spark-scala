{
 "cells": [
  {
   "cell_type": "code",
   "execution_count": null,
   "id": "577932b4",
   "metadata": {},
   "outputs": [
    {
     "name": "stdout",
     "output_type": "stream",
     "text": [
      "id,ville_depart,ville_arrivee,distance_km,mode_transport,duree_min\n",
      "1,Nice,Lyon,266,train,57\n",
      "2,Dijon,Tours,290,velo,706\n",
      "3,Marseille,Lyon,686,bus,595\n",
      "4,Nantes,Bordeaux,180,voiture,139\n",
      "5,Grenoble,Dijon,309,train,87\n",
      "6,Nantes,Dijon,323,velo,916\n",
      "7,Lille,Dijon,468,voiture,252\n",
      "8,Dijon,Strasbourg,592,train,351\n",
      "9,Nantes,Lyon,516,voiture,506\n"
     ]
    },
    {
     "data": {
      "text/plain": [
       "lignes = data/trajets_villes.csv MapPartitionsRDD[3] at textFile at <console>:25\n"
      ]
     },
     "metadata": {},
     "output_type": "display_data"
    },
    {
     "data": {
      "text/plain": [
       "data/trajets_villes.csv MapPartitionsRDD[3] at textFile at <console>:25"
      ]
     },
     "execution_count": 2,
     "metadata": {},
     "output_type": "execute_result"
    }
   ],
   "source": [
    "// Seance 1, Etape 1\n",
    "\n",
    "val lignes = sc.textFile(\"data/trajets_villes.csv\")\n",
    "lignes.take(10).foreach(println)"
   ]
  },
  {
   "cell_type": "markdown",
   "id": "6c47712a",
   "metadata": {},
   "source": [
    "## Étape 2 – Persona\n",
    "\n",
    "**Nom :** Sophie  \n",
    "**Métier :** Chargée de mission dans une collectivité locale  \n",
    "**Région :** Pays de la Loire  \n",
    "**Objectif :** Améliorer les transports publics entre les villes de la région  \n",
    "**Ce qu’elle cherche à savoir :**\n",
    "- Quels sont les trajets les plus longs ou les plus courts  \n",
    "- Quels sont les modes de transport les plus rapides  \n",
    "- Comment optimiser la durée des trajets  \n",
    "- Comment sa région se compare aux autres régions françaises en termes de mobilité\n"
   ]
  },
  {
   "cell_type": "code",
   "execution_count": 12,
   "id": "a0b317ce",
   "metadata": {},
   "outputs": [
    {
     "name": "stdout",
     "output_type": "stream",
     "text": [
      "Trajet(1,Nice,Lyon,266,train,57)\n",
      "Trajet(2,Dijon,Tours,290,velo,706)\n",
      "Trajet(3,Marseille,Lyon,686,bus,595)\n",
      "Trajet(4,Nantes,Bordeaux,180,voiture,139)\n",
      "Trajet(5,Grenoble,Dijon,309,train,87)\n"
     ]
    },
    {
     "data": {
      "text/plain": [
       "defined class Trajet\n",
       "lignesSansEntete = MapPartitionsRDD[34] at filter at <console>:40\n",
       "trajets = MapPartitionsRDD[35] at map at <console>:43\n"
      ]
     },
     "metadata": {},
     "output_type": "display_data"
    },
    {
     "data": {
      "text/plain": [
       "MapPartitionsRDD[35] at map at <console>:43"
      ]
     },
     "execution_count": 12,
     "metadata": {},
     "output_type": "execute_result"
    }
   ],
   "source": [
    "// Seance 1, Etape 3\n",
    "\n",
    "// Définition de la structure d’un trajet avec une case class\n",
    "case class Trajet(\n",
    "  id: Int,                 // Identifiant unique du trajet\n",
    "  ville_depart: String,    // Ville de départ\n",
    "  ville_arrivee: String,   // Ville d’arrivée\n",
    "  distance_km: Int,        // Distance en kilomètres\n",
    "  mode_transport: String,  // Mode de transport (ex : train, bus, etc.)\n",
    "  duree_min: Int           // Durée du trajet en minutes\n",
    ")\n",
    "\n",
    "val lignesSansEntete = lignes.filter(!_.startsWith(\"id\"))\n",
    "\n",
    "// Transformation de chaque ligne du CSV en un objet Trajet\n",
    "val trajets = lignesSansEntete.map { ligne =>\n",
    "  val champs = ligne.split(\",\")  // Découper la ligne en colonnes (tableau de chaînes)\n",
    "  Trajet(\n",
    "    champs(0).toInt,   // id\n",
    "    champs(1),         // ville_depart\n",
    "    champs(2),         // ville_arrivee\n",
    "    champs(3).toInt,   // distance_km\n",
    "    champs(4),         // mode_transport\n",
    "    champs(5).toInt    // duree_min\n",
    "  )\n",
    "}\n",
    "\n",
    "trajets.take(5).foreach(println)\n"
   ]
  }
 ],
 "metadata": {
  "kernelspec": {
   "display_name": "Apache Toree - Scala",
   "language": "scala",
   "name": "apache_toree_scala"
  },
  "language_info": {
   "codemirror_mode": "text/x-scala",
   "file_extension": ".scala",
   "mimetype": "text/x-scala",
   "name": "scala",
   "pygments_lexer": "scala",
   "version": "2.12.15"
  }
 },
 "nbformat": 4,
 "nbformat_minor": 5
}
