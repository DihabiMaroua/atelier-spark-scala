{
 "cells": [
  {
   "cell_type": "markdown",
   "id": "48c73ce4",
   "metadata": {},
   "source": [
    "# Séance 1 - Objectifs, chargement, traitement"
   ]
  },
  {
   "cell_type": "markdown",
   "id": "04042808",
   "metadata": {},
   "source": [
    "## Étape 1 - Choix de la source de données"
   ]
  },
  {
   "cell_type": "code",
   "execution_count": null,
   "id": "4418372d",
   "metadata": {},
   "outputs": [
    {
     "data": {
      "text/plain": [
       "spark = org.apache.spark.sql.SparkSession@34440609\n"
      ]
     },
     "metadata": {},
     "output_type": "display_data"
    },
    {
     "data": {
      "text/plain": [
       "org.apache.spark.sql.SparkSession@34440609"
      ]
     },
     "execution_count": 1,
     "metadata": {},
     "output_type": "execute_result"
    }
   ],
   "source": [
    "import org.apache.spark.sql.SparkSession\n"
   ]
  },
  {
   "cell_type": "code",
   "execution_count": 2,
   "id": "577932b4",
   "metadata": {},
   "outputs": [
    {
     "name": "stdout",
     "output_type": "stream",
     "text": [
      "id,ville_depart,ville_arrivee,distance_km,duree_min\n",
      "1,Nice,Lyon,470,188\n",
      "2,Dijon,Tours,290,116\n",
      "3,Marseille,Lyon,315,126\n",
      "4,Nantes,Bordeaux,335,134\n",
      "5,Grenoble,Dijon,309,124\n",
      "6,Nantes,Dijon,323,129\n",
      "7,Lille,Dijon,468,187\n",
      "8,Dijon,Strasbourg,310,124\n",
      "9,Nantes,Lyon,516,206\n"
     ]
    },
    {
     "data": {
      "text/plain": [
       "lignes = data/Trajets_train.csv MapPartitionsRDD[1] at textFile at <console>:25\n"
      ]
     },
     "metadata": {},
     "output_type": "display_data"
    },
    {
     "data": {
      "text/plain": [
       "data/Trajets_train.csv MapPartitionsRDD[1] at textFile at <console>:25"
      ]
     },
     "execution_count": 2,
     "metadata": {},
     "output_type": "execute_result"
    }
   ],
   "source": [
    "val lignes = sc.textFile(\"data/Trajets_train.csv\")\n",
    "lignes.take(10).foreach(println)"
   ]
  },
  {
   "cell_type": "markdown",
   "id": "6c47712a",
   "metadata": {},
   "source": [
    "## Étape 2 – Persona\n",
    "\n",
    "**Type d’utilisateur :**  \n",
    "Agent de planification des transports (exemple : agent SNCF)\n",
    "\n",
    "**Persona :**  \n",
    "- **Nom :** Julien Dubois  \n",
    "- **Métier :** Agent SNCF  \n",
    "- **Objectif :** Améliorer les trajets entre les grandes villes\n",
    "\n",
    "**Indicateurs pertinents :**\n",
    "- Temps moyen de trajet par liaison (ville_depart → ville_arrivee)\n",
    "- Distance moyenne par liaison\n",
    "- Vitesse moyenne (km/h) par liaison\n",
    "- Les trajets les plus lents (vitesse basse)"
   ]
  },
  {
   "cell_type": "markdown",
   "id": "b5835d14",
   "metadata": {},
   "source": [
    "## Étape 3 - Chargement, pré-traitement"
   ]
  },
  {
   "cell_type": "code",
   "execution_count": 3,
   "id": "a0b317ce",
   "metadata": {},
   "outputs": [
    {
     "name": "stdout",
     "output_type": "stream",
     "text": [
      "Trajet(1,Nice,Lyon,470,188)\n",
      "Trajet(2,Dijon,Tours,290,116)\n",
      "Trajet(3,Marseille,Lyon,315,126)\n",
      "Trajet(4,Nantes,Bordeaux,335,134)\n",
      "Trajet(5,Grenoble,Dijon,309,124)\n"
     ]
    },
    {
     "data": {
      "text/plain": [
       "defined class Trajet\n",
       "lignesSansEntete = MapPartitionsRDD[2] at filter at <console>:34\n",
       "trajets = MapPartitionsRDD[3] at map at <console>:37\n"
      ]
     },
     "metadata": {},
     "output_type": "display_data"
    },
    {
     "data": {
      "text/plain": [
       "MapPartitionsRDD[3] at map at <console>:37"
      ]
     },
     "execution_count": 3,
     "metadata": {},
     "output_type": "execute_result"
    }
   ],
   "source": [
    "\n",
    "// Définition de la structure d’un trajet avec une case class\n",
    "case class Trajet(\n",
    "  id: Int,                 // Identifiant unique du trajet\n",
    "  ville_depart: String,    // Ville de départ\n",
    "  ville_arrivee: String,   // Ville d’arrivée\n",
    "  distance_km: Int,        // Distance en kilomètres\n",
    "  duree_min: Int           // Durée du trajet en minutes\n",
    ")\n",
    "\n",
    "val lignesSansEntete = lignes.filter(!_.startsWith(\"id\"))\n",
    "\n",
    "// Transformation de chaque ligne du CSV en un objet Trajet\n",
    "val trajets = lignesSansEntete.map { ligne =>\n",
    "  val champs = ligne.split(\",\")  // Découper la ligne en colonnes (tableau de chaînes)\n",
    "  Trajet(\n",
    "    champs(0).toInt,   // id\n",
    "    champs(1),         // ville_depart\n",
    "    champs(2),         // ville_arrivee\n",
    "    champs(3).toInt,   // distance_km\n",
    "    champs(4).toInt    // duree_min\n",
    "  )\n",
    "}\n",
    "\n",
    "trajets.take(5).foreach(println)\n"
   ]
  },
  {
   "cell_type": "markdown",
   "id": "749dea16",
   "metadata": {},
   "source": [
    "# Séance 2 - Ingestion, SparkSQL"
   ]
  },
  {
   "cell_type": "markdown",
   "id": "f36ea4a3",
   "metadata": {},
   "source": [
    "## Étape 1 : Transformer le RDD en DataFrame SparkSQL"
   ]
  },
  {
   "cell_type": "code",
   "execution_count": 5,
   "id": "2dcd3068",
   "metadata": {},
   "outputs": [
    {
     "name": "stdout",
     "output_type": "stream",
     "text": [
      "Nombre de trajets : 100\n",
      "+---+------------+-------------+-----------+---------+\n",
      "| id|ville_depart|ville_arrivee|distance_km|duree_min|\n",
      "+---+------------+-------------+-----------+---------+\n",
      "|  1|        Nice|         Lyon|        470|      188|\n",
      "|  2|       Dijon|        Tours|        290|      116|\n",
      "|  3|   Marseille|         Lyon|        315|      126|\n",
      "|  4|      Nantes|     Bordeaux|        335|      134|\n",
      "|  5|    Grenoble|        Dijon|        309|      124|\n",
      "|  6|      Nantes|        Dijon|        323|      129|\n",
      "|  7|       Lille|        Dijon|        468|      187|\n",
      "|  8|       Dijon|   Strasbourg|        310|      124|\n",
      "|  9|      Nantes|         Lyon|        516|      206|\n",
      "| 10|       Rouen|        Dijon|        157|       63|\n",
      "| 11|       Dijon|        Tours|        515|      206|\n",
      "| 12|  Strasbourg|        Tours|        562|      225|\n",
      "| 13|        Lyon|         Nice|        290|      116|\n",
      "| 14|       Lille|        Tours|        263|      105|\n",
      "| 15|      Angers|       Rennes|        128|       53|\n",
      "| 16|       Rouen|        Tours|        569|      228|\n",
      "| 17|      Angers|     Bordeaux|        301|      120|\n",
      "| 18|      Nantes|     Bordeaux|        335|      134|\n",
      "| 19|      Nantes|     Grenoble|        574|      230|\n",
      "| 20|    Grenoble|    Marseille|        337|      135|\n",
      "+---+------------+-------------+-----------+---------+\n",
      "only showing top 20 rows\n",
      "\n",
      "root\n",
      " |-- id: integer (nullable = false)\n",
      " |-- ville_depart: string (nullable = true)\n",
      " |-- ville_arrivee: string (nullable = true)\n",
      " |-- distance_km: integer (nullable = false)\n",
      " |-- duree_min: integer (nullable = false)\n",
      "\n",
      "+-------+------------------+------------+-------------+------------------+-----------------+\n",
      "|summary|                id|ville_depart|ville_arrivee|       distance_km|        duree_min|\n",
      "+-------+------------------+------------+-------------+------------------+-----------------+\n",
      "|  count|               100|         100|          100|               100|              100|\n",
      "|   mean|              50.5|        NULL|         NULL|            391.04|           156.44|\n",
      "| stddev|29.011491975882016|        NULL|         NULL|201.47837039586588|80.55317836966177|\n",
      "|    min|                 1|      Angers|       Angers|                30|               12|\n",
      "|    25%|                25|        NULL|         NULL|               228|               91|\n",
      "|    50%|                50|        NULL|         NULL|               349|              140|\n",
      "|    75%|                75|        NULL|         NULL|               559|              224|\n",
      "|    max|               100|       Tours|        Tours|               820|              328|\n",
      "+-------+------------------+------------+-------------+------------------+-----------------+\n",
      "\n"
     ]
    },
    {
     "data": {
      "text/plain": [
       "dfTrajets = [id: int, ville_depart: string ... 3 more fields]\n"
      ]
     },
     "metadata": {},
     "output_type": "display_data"
    },
    {
     "data": {
      "text/plain": [
       "[id: int, ville_depart: string ... 3 more fields]"
      ]
     },
     "execution_count": 5,
     "metadata": {},
     "output_type": "execute_result"
    }
   ],
   "source": [
    "import spark.implicits._\n",
    "\n",
    "// Transformer le RDD en DataFrame\n",
    "val dfTrajets = trajets.toDF()\n",
    "\n",
    "println(\"Nombre de trajets : \" + dfTrajets.count())\n",
    "\n",
    "dfTrajets.show()\n",
    "\n",
    "dfTrajets.printSchema()\n",
    "\n",
    "// Statistiques résumées sur toutes les colonnes numériques\n",
    "dfTrajets.summary().show()"
   ]
  },
  {
   "cell_type": "markdown",
   "id": "5cb2a84c",
   "metadata": {},
   "source": [
    "## Étape 2 - Extraction de dimensions"
   ]
  },
  {
   "cell_type": "code",
   "execution_count": 10,
   "id": "c48bdeeb",
   "metadata": {},
   "outputs": [
    {
     "name": "stdout",
     "output_type": "stream",
     "text": [
      "+---+-----------+---------+---------------+----------------+\n",
      "| id|distance_km|duree_min|id_ville_depart|id_ville_arrivee|\n",
      "+---+-----------+---------+---------------+----------------+\n",
      "|  1|        470|      188|              0|               8|\n",
      "|  2|        290|      116|              1|              13|\n",
      "|  3|        315|      126|              6|               8|\n",
      "|  4|        335|      134|              5|               9|\n",
      "|  5|        309|      124|              2|               1|\n",
      "|  6|        323|      129|              5|               1|\n",
      "|  7|        468|      187|              4|               1|\n",
      "|  8|        310|      124|              1|              10|\n",
      "|  9|        516|      206|              5|               8|\n",
      "| 10|        157|       63|             14|               1|\n",
      "| 11|        515|      206|              1|              13|\n",
      "| 12|        562|      225|             10|              13|\n",
      "| 13|        290|      116|              8|               0|\n",
      "| 14|        263|      105|              4|              13|\n",
      "| 15|        128|       53|              3|              12|\n",
      "| 16|        569|      228|             14|              13|\n",
      "| 17|        301|      120|              3|               9|\n",
      "| 18|        335|      134|              5|               9|\n",
      "| 19|        574|      230|              5|               2|\n",
      "| 20|        337|      135|              2|               6|\n",
      "+---+-----------+---------+---------------+----------------+\n",
      "only showing top 20 rows\n",
      "\n"
     ]
    },
    {
     "data": {
      "text/plain": [
       "lastException = null\n",
       "spark = org.apache.spark.sql.SparkSession@34440609\n",
       "dfTrajets = [id: int, ville_depart: string ... 3 more fields]\n",
       "dfVillesDepart = [ville_depart: string, id_ville_depart: bigint]\n",
       "dfVillesArrivee = [ville_arrivee: string, id_ville_arrivee: bigint]\n",
       "dfTrajetsJoin1 = [ville_depart: string, id: int ... 4 more fields]\n",
       "dfTrajetsFinal = [ville_arrivee: string, ville_depart: string ... 5 more fields]\n",
       "dfTrajetsClean = [id: int, distance_km: int ...\n"
      ]
     },
     "metadata": {},
     "output_type": "display_data"
    },
    {
     "data": {
      "text/plain": [
       "[id: int, distance_km: int ..."
      ]
     },
     "execution_count": 10,
     "metadata": {},
     "output_type": "execute_result"
    }
   ],
   "source": [
    "import org.apache.spark.sql.SparkSession\n",
    "import org.apache.spark.sql.functions.monotonically_increasing_id\n",
    "val spark = SparkSession.builder().appName(\"Atelier Spark Scala\").master(\"local[*]\").getOrCreate()\n",
    "import spark.implicits._\n",
    "\n",
    "val dfTrajets = spark.read.option(\"header\", true).option(\"inferSchema\", true).csv(\"data/Trajets_train.csv\")\n",
    "\n",
    "// Dimension : villes de départ\n",
    "val dfVillesDepart = dfTrajets.select(\"ville_depart\").distinct()\n",
    "  .withColumn(\"id_ville_depart\", monotonically_increasing_id())\n",
    "\n",
    "// Dimension : villes d’arrivée\n",
    "val dfVillesArrivee = dfTrajets.select(\"ville_arrivee\").distinct()\n",
    "  .withColumn(\"id_ville_arrivee\", monotonically_increasing_id())\n",
    "\n",
    "// Ajouter l’ID de la ville de départ\n",
    "val dfTrajetsJoin1 = dfTrajets.join(dfVillesDepart, Seq(\"ville_depart\"))\n",
    "\n",
    "// Ajouter l’ID de la ville d’arrivée\n",
    "val dfTrajetsFinal = dfTrajetsJoin1.join(dfVillesArrivee, Seq(\"ville_arrivee\"))\n",
    "\n",
    "// Nettoyer les colonnes littérales devenues inutiles\n",
    "val dfTrajetsClean = dfTrajetsFinal\n",
    "  .drop(\"ville_depart\")\n",
    "  .drop(\"ville_arrivee\")\n",
    "\n",
    "dfTrajetsClean.show()"
   ]
  },
  {
   "cell_type": "markdown",
   "id": "d4c3387a",
   "metadata": {},
   "source": [
    "## Étape 3 - Tables Hive, SQL"
   ]
  },
  {
   "cell_type": "code",
   "execution_count": 11,
   "id": "a3e21426",
   "metadata": {},
   "outputs": [
    {
     "name": "stdout",
     "output_type": "stream",
     "text": [
      "+---+-----------+---------+---------------+----------------+\n",
      "| id|distance_km|duree_min|id_ville_depart|id_ville_arrivee|\n",
      "+---+-----------+---------+---------------+----------------+\n",
      "|  1|        470|      188|              0|               8|\n",
      "|  2|        290|      116|              1|              13|\n",
      "|  3|        315|      126|              6|               8|\n",
      "|  4|        335|      134|              5|               9|\n",
      "|  5|        309|      124|              2|               1|\n",
      "+---+-----------+---------+---------------+----------------+\n",
      "\n",
      "+------------+---------------+\n",
      "|ville_depart|id_ville_depart|\n",
      "+------------+---------------+\n",
      "|        Nice|              0|\n",
      "|       Dijon|              1|\n",
      "|    Grenoble|              2|\n",
      "|      Angers|              3|\n",
      "|       Lille|              4|\n",
      "+------------+---------------+\n",
      "\n",
      "+----------+\n",
      "|nb_trajets|\n",
      "+----------+\n",
      "|       100|\n",
      "+----------+\n",
      "\n"
     ]
    },
    {
     "data": {
      "text/plain": [
       "hc = org.apache.spark.sql.hive.HiveContext@43c59bb4\n"
      ]
     },
     "metadata": {},
     "output_type": "display_data"
    },
    {
     "data": {
      "text/plain": [
       "warning: one deprecation (since 2.0.0); for details, enable `:setting -deprecation' or `:replay -deprecation'\n"
      ]
     },
     "metadata": {},
     "output_type": "display_data"
    },
    {
     "data": {
      "text/plain": [
       "org.apache.spark.sql.hive.HiveContext@43c59bb4"
      ]
     },
     "execution_count": 11,
     "metadata": {},
     "output_type": "execute_result"
    }
   ],
   "source": [
    "import org.apache.spark.sql.hive.HiveContext\n",
    "val hc = new HiveContext(sc)\n",
    "\n",
    "// Supprimer les tables existantes si nécessaire\n",
    "hc.sql(\"DROP TABLE IF EXISTS trajets\")\n",
    "hc.sql(\"DROP TABLE IF EXISTS villes_depart\")\n",
    "hc.sql(\"DROP TABLE IF EXISTS villes_arrivee\")\n",
    "\n",
    "// Enregistrer les DataFrames en tant que tables Hive\n",
    "dfTrajetsClean.write.mode(\"overwrite\").saveAsTable(\"trajets\")\n",
    "dfVillesDepart.write.mode(\"overwrite\").saveAsTable(\"villes_depart\")\n",
    "dfVillesArrivee.write.mode(\"overwrite\").saveAsTable(\"villes_arrivee\")\n",
    "\n",
    "// Vérifier les résultats avec quelques requêtes SQL\n",
    "hc.sql(\"SELECT * FROM trajets LIMIT 5\").show()\n",
    "hc.sql(\"SELECT * FROM villes_depart LIMIT 5\").show()\n",
    "hc.sql(\"SELECT COUNT(*) as nb_trajets FROM trajets\").show()\n"
   ]
  },
  {
   "cell_type": "markdown",
   "id": "8bad8187",
   "metadata": {},
   "source": [
    "# Séance 3 - Spark SQL (suite), Stats"
   ]
  },
  {
   "cell_type": "markdown",
   "id": "e7ec1186",
   "metadata": {},
   "source": [
    "## Étape 1 - Agrégations"
   ]
  },
  {
   "cell_type": "markdown",
   "id": "8479218c",
   "metadata": {},
   "source": [
    "### 1. Moyenne des vitesses par mode de transport"
   ]
  },
  {
   "cell_type": "code",
   "execution_count": 12,
   "id": "9daf0f23",
   "metadata": {},
   "outputs": [
    {
     "name": "stdout",
     "output_type": "stream",
     "text": [
      "+--------------+-------------------+\n",
      "|mode_transport|vitesse_moyenne_kmh|\n",
      "+--------------+-------------------+\n",
      "|           bus|              70.09|\n",
      "|         train|             197.86|\n",
      "|          velo|              18.50|\n",
      "|       voiture|              92.25|\n",
      "+--------------+-------------------+\n",
      "\n"
     ]
    }
   ],
   "source": [
    "hc.sql(\"\"\"\n",
    "  SELECT \n",
    "    mode_transport,\n",
    "    ROUND(AVG(distance_km * 60.0 / duree_min), 2) AS vitesse_moyenne_kmh\n",
    "  FROM trajets\n",
    "  GROUP BY mode_transport\n",
    "\"\"\").show()\n"
   ]
  },
  {
   "cell_type": "markdown",
   "id": "67f8aaf7",
   "metadata": {},
   "source": [
    "### 2. Nombre de trajets par mode de transport"
   ]
  },
  {
   "cell_type": "code",
   "execution_count": 13,
   "id": "4af424e8",
   "metadata": {},
   "outputs": [
    {
     "name": "stdout",
     "output_type": "stream",
     "text": [
      "+--------------+----------+\n",
      "|mode_transport|nb_trajets|\n",
      "+--------------+----------+\n",
      "|           bus|        22|\n",
      "|         train|        24|\n",
      "|          velo|        24|\n",
      "|       voiture|        30|\n",
      "+--------------+----------+\n",
      "\n"
     ]
    }
   ],
   "source": [
    "hc.sql(\"\"\"\n",
    "  SELECT \n",
    "    mode_transport,\n",
    "    COUNT(*) AS nb_trajets\n",
    "  FROM trajets\n",
    "  GROUP BY mode_transport\n",
    "\"\"\").show()"
   ]
  },
  {
   "cell_type": "markdown",
   "id": "09bbf0d9",
   "metadata": {},
   "source": [
    "### 3. Moyenne de la distance par mode de transport"
   ]
  },
  {
   "cell_type": "code",
   "execution_count": 14,
   "id": "b52dc8fc",
   "metadata": {},
   "outputs": [
    {
     "name": "stdout",
     "output_type": "stream",
     "text": [
      "+--------------+-------------------+\n",
      "|mode_transport|distance_moyenne_km|\n",
      "+--------------+-------------------+\n",
      "|           bus|              371.7|\n",
      "|         train|              392.6|\n",
      "|          velo|              304.9|\n",
      "|       voiture|              405.9|\n",
      "+--------------+-------------------+\n",
      "\n"
     ]
    }
   ],
   "source": [
    "hc.sql(\"\"\"\n",
    "  SELECT \n",
    "    mode_transport,\n",
    "    ROUND(AVG(distance_km), 1) AS distance_moyenne_km\n",
    "  FROM trajets\n",
    "  GROUP BY mode_transport\n",
    "\"\"\").show()\n"
   ]
  },
  {
   "cell_type": "markdown",
   "id": "71babb90",
   "metadata": {},
   "source": [
    "### 4. Top 5 des trajets en train les plus lents (en vitesse km/h)"
   ]
  },
  {
   "cell_type": "code",
   "execution_count": 18,
   "id": "64b8f2d3",
   "metadata": {},
   "outputs": [
    {
     "name": "stdout",
     "output_type": "stream",
     "text": [
      "+------------+-------------+-----------+---------+-----------+\n",
      "|ville_depart|ville_arrivee|distance_km|duree_min|vitesse_kmh|\n",
      "+------------+-------------+-----------+---------+-----------+\n",
      "|       Dijon|   Strasbourg|        592|      351|     101.20|\n",
      "|       Paris|   Strasbourg|        228|      128|     106.88|\n",
      "|    Grenoble|        Lille|        557|      306|     109.22|\n",
      "|       Paris|    Marseille|        150|       82|     109.76|\n",
      "|      Rennes|       Angers|        689|      315|     131.24|\n",
      "+------------+-------------+-----------+---------+-----------+\n",
      "\n"
     ]
    }
   ],
   "source": [
    "hc.sql(\"\"\"\n",
    "  SELECT \n",
    "    ville_depart,\n",
    "    ville_arrivee,\n",
    "    distance_km,\n",
    "    duree_min,\n",
    "    ROUND(distance_km * 60.0 / duree_min, 2) AS vitesse_kmh\n",
    "  FROM trajets\n",
    "  WHERE mode_transport = 'train'\n",
    "  ORDER BY vitesse_kmh ASC\n",
    "  LIMIT 5\n",
    "\"\"\").show()"
   ]
  },
  {
   "cell_type": "markdown",
   "id": "d93013ad",
   "metadata": {},
   "source": [
    "## 5. Trajets en train avec une durée anormalement élevée (ratio minutes/km élevé)"
   ]
  },
  {
   "cell_type": "code",
   "execution_count": 19,
   "id": "23450e6e",
   "metadata": {},
   "outputs": [
    {
     "name": "stdout",
     "output_type": "stream",
     "text": [
      "+------------+-------------+-----------+---------+----------+\n",
      "|ville_depart|ville_arrivee|distance_km|duree_min|min_par_km|\n",
      "+------------+-------------+-----------+---------+----------+\n",
      "|       Dijon|   Strasbourg|        592|      351|      0.59|\n",
      "|       Paris|   Strasbourg|        228|      128|      0.56|\n",
      "|       Paris|    Marseille|        150|       82|      0.55|\n",
      "|    Grenoble|        Lille|        557|      306|      0.55|\n",
      "|      Rennes|       Angers|        689|      315|      0.46|\n",
      "+------------+-------------+-----------+---------+----------+\n",
      "\n"
     ]
    }
   ],
   "source": [
    "hc.sql(\"\"\"\n",
    "  SELECT \n",
    "    ville_depart,\n",
    "    ville_arrivee,\n",
    "    distance_km,\n",
    "    duree_min,\n",
    "    ROUND(duree_min * 1.0 / distance_km, 2) AS min_par_km\n",
    "  FROM trajets\n",
    "  WHERE mode_transport = 'train' AND distance_km > 50\n",
    "  ORDER BY min_par_km DESC\n",
    "  LIMIT 5\n",
    "\"\"\").show()"
   ]
  },
  {
   "cell_type": "markdown",
   "id": "ba3cbf7e",
   "metadata": {},
   "source": [
    "## 6. Nombre de trajets par ville de départ"
   ]
  },
  {
   "cell_type": "code",
   "execution_count": 17,
   "id": "e2255789",
   "metadata": {},
   "outputs": [
    {
     "name": "stdout",
     "output_type": "stream",
     "text": [
      "+------------+-----------------+\n",
      "|ville_depart|nb_trajets_depart|\n",
      "+------------+-----------------+\n",
      "|  Strasbourg|               11|\n",
      "|       Dijon|               10|\n",
      "|        Lyon|               10|\n",
      "|       Lille|                9|\n",
      "|    Grenoble|                8|\n",
      "|       Paris|                7|\n",
      "|    Bordeaux|                7|\n",
      "|       Rouen|                7|\n",
      "|      Nantes|                6|\n",
      "|        Nice|                5|\n",
      "|      Angers|                5|\n",
      "|      Rennes|                5|\n",
      "|    Toulouse|                4|\n",
      "|   Marseille|                3|\n",
      "|       Tours|                3|\n",
      "+------------+-----------------+\n",
      "\n"
     ]
    }
   ],
   "source": [
    "hc.sql(\"\"\"\n",
    "  SELECT \n",
    "    ville_depart,\n",
    "    COUNT(*) AS nb_trajets_depart\n",
    "  FROM trajets\n",
    "  GROUP BY ville_depart\n",
    "  ORDER BY nb_trajets_depart DESC\n",
    "\"\"\").show()"
   ]
  }
 ],
 "metadata": {
  "kernelspec": {
   "display_name": "Apache Toree - Scala",
   "language": "scala",
   "name": "apache_toree_scala"
  },
  "language_info": {
   "codemirror_mode": "text/x-scala",
   "file_extension": ".scala",
   "mimetype": "text/x-scala",
   "name": "scala",
   "pygments_lexer": "scala",
   "version": "2.12.15"
  }
 },
 "nbformat": 4,
 "nbformat_minor": 5
}
