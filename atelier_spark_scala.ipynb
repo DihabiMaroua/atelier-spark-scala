{
 "cells": [
  {
   "cell_type": "markdown",
   "id": "48c73ce4",
   "metadata": {},
   "source": [
    "# Séance 1 - Objectifs, chargement, traitement"
   ]
  },
  {
   "cell_type": "markdown",
   "id": "04042808",
   "metadata": {},
   "source": [
    "## Étape 1 - Choix de la source de données"
   ]
  },
  {
   "cell_type": "code",
   "execution_count": null,
   "id": "4418372d",
   "metadata": {},
   "outputs": [
    {
     "data": {
      "text/plain": [
       "spark = org.apache.spark.sql.SparkSession@34440609\n"
      ]
     },
     "metadata": {},
     "output_type": "display_data"
    },
    {
     "data": {
      "text/plain": [
       "org.apache.spark.sql.SparkSession@34440609"
      ]
     },
     "execution_count": 1,
     "metadata": {},
     "output_type": "execute_result"
    }
   ],
   "source": [
    "import org.apache.spark.sql.SparkSession"
   ]
  },
  {
   "cell_type": "code",
   "execution_count": 2,
   "id": "577932b4",
   "metadata": {},
   "outputs": [
    {
     "name": "stdout",
     "output_type": "stream",
     "text": [
      "id,ville_depart,ville_arrivee,distance_km,duree_min\n",
      "1,Nice,Lyon,470,188\n",
      "2,Dijon,Tours,290,116\n",
      "3,Marseille,Lyon,315,126\n",
      "4,Nantes,Bordeaux,335,134\n",
      "5,Grenoble,Dijon,309,124\n",
      "6,Nantes,Dijon,323,129\n",
      "7,Lille,Dijon,468,187\n",
      "8,Dijon,Strasbourg,310,124\n",
      "9,Nantes,Lyon,516,206\n"
     ]
    },
    {
     "data": {
      "text/plain": [
       "lignes = data/Trajets_train.csv MapPartitionsRDD[1] at textFile at <console>:25\n"
      ]
     },
     "metadata": {},
     "output_type": "display_data"
    },
    {
     "data": {
      "text/plain": [
       "data/Trajets_train.csv MapPartitionsRDD[1] at textFile at <console>:25"
      ]
     },
     "execution_count": 2,
     "metadata": {},
     "output_type": "execute_result"
    }
   ],
   "source": [
    "val lignes = sc.textFile(\"data/Trajets_train.csv\")\n",
    "lignes.take(10).foreach(println)"
   ]
  },
  {
   "cell_type": "markdown",
   "id": "6c47712a",
   "metadata": {},
   "source": [
    "## Étape 2 – Persona\n",
    "\n",
    "**Type d’utilisateur :**  \n",
    "Agent de planification des transports (exemple : agent SNCF)\n",
    "\n",
    "**Persona :**  \n",
    "- **Nom :** Julien Dubois  \n",
    "- **Métier :** Agent SNCF  \n",
    "- **Objectif :** Améliorer les trajets entre les grandes villes\n",
    "\n",
    "**Indicateurs pertinents :**\n",
    "- Temps de trajet le plus court par ville de départ.\n",
    "- Temps de trajet le plus long par ville de départ.\n",
    "- Vitesse moyenne (km/h) par liaison.\n",
    "- Les trajets qui prennent le plus de temps par rapport à la distance.\n",
    "- Nombre de départs par ville.\n",
    "- Nombre d'arrivées par ville."
   ]
  },
  {
   "cell_type": "markdown",
   "id": "b5835d14",
   "metadata": {},
   "source": [
    "## Étape 3 - Chargement, pré-traitement"
   ]
  },
  {
   "cell_type": "code",
   "execution_count": 3,
   "id": "a0b317ce",
   "metadata": {},
   "outputs": [
    {
     "name": "stdout",
     "output_type": "stream",
     "text": [
      "Trajet(1,Nice,Lyon,470,188)\n",
      "Trajet(2,Dijon,Tours,290,116)\n",
      "Trajet(3,Marseille,Lyon,315,126)\n",
      "Trajet(4,Nantes,Bordeaux,335,134)\n",
      "Trajet(5,Grenoble,Dijon,309,124)\n"
     ]
    },
    {
     "data": {
      "text/plain": [
       "defined class Trajet\n",
       "lignesSansEntete = MapPartitionsRDD[2] at filter at <console>:34\n",
       "trajets = MapPartitionsRDD[3] at map at <console>:37\n"
      ]
     },
     "metadata": {},
     "output_type": "display_data"
    },
    {
     "data": {
      "text/plain": [
       "MapPartitionsRDD[3] at map at <console>:37"
      ]
     },
     "execution_count": 3,
     "metadata": {},
     "output_type": "execute_result"
    }
   ],
   "source": [
    "\n",
    "// Définition de la structure d’un trajet avec une case class\n",
    "case class Trajet(\n",
    "  id: Int,                 // Identifiant unique du trajet\n",
    "  ville_depart: String,    // Ville de départ\n",
    "  ville_arrivee: String,   // Ville d’arrivée\n",
    "  distance_km: Int,        // Distance en kilomètres\n",
    "  duree_min: Int           // Durée du trajet en minutes\n",
    ")\n",
    "\n",
    "val lignesSansEntete = lignes.filter(!_.startsWith(\"id\"))\n",
    "\n",
    "// Transformation de chaque ligne du CSV en un objet Trajet\n",
    "val trajets = lignesSansEntete.map { ligne =>\n",
    "  val champs = ligne.split(\",\")  // Découper la ligne en colonnes (tableau de chaînes)\n",
    "  Trajet(\n",
    "    champs(0).toInt,   // id\n",
    "    champs(1),         // ville_depart\n",
    "    champs(2),         // ville_arrivee\n",
    "    champs(3).toInt,   // distance_km\n",
    "    champs(4).toInt    // duree_min\n",
    "  )\n",
    "}\n",
    "\n",
    "trajets.take(5).foreach(println)\n"
   ]
  },
  {
   "cell_type": "markdown",
   "id": "749dea16",
   "metadata": {},
   "source": [
    "# Séance 2 - Ingestion, SparkSQL"
   ]
  },
  {
   "cell_type": "markdown",
   "id": "f36ea4a3",
   "metadata": {},
   "source": [
    "## Étape 1 : Transformer le RDD en DataFrame SparkSQL"
   ]
  },
  {
   "cell_type": "code",
   "execution_count": 5,
   "id": "2dcd3068",
   "metadata": {},
   "outputs": [
    {
     "name": "stdout",
     "output_type": "stream",
     "text": [
      "Nombre de trajets : 100\n",
      "+---+------------+-------------+-----------+---------+\n",
      "| id|ville_depart|ville_arrivee|distance_km|duree_min|\n",
      "+---+------------+-------------+-----------+---------+\n",
      "|  1|        Nice|         Lyon|        470|      188|\n",
      "|  2|       Dijon|        Tours|        290|      116|\n",
      "|  3|   Marseille|         Lyon|        315|      126|\n",
      "|  4|      Nantes|     Bordeaux|        335|      134|\n",
      "|  5|    Grenoble|        Dijon|        309|      124|\n",
      "|  6|      Nantes|        Dijon|        323|      129|\n",
      "|  7|       Lille|        Dijon|        468|      187|\n",
      "|  8|       Dijon|   Strasbourg|        310|      124|\n",
      "|  9|      Nantes|         Lyon|        516|      206|\n",
      "| 10|       Rouen|        Dijon|        157|       63|\n",
      "| 11|       Dijon|        Tours|        515|      206|\n",
      "| 12|  Strasbourg|        Tours|        562|      225|\n",
      "| 13|        Lyon|         Nice|        290|      116|\n",
      "| 14|       Lille|        Tours|        263|      105|\n",
      "| 15|      Angers|       Rennes|        128|       53|\n",
      "| 16|       Rouen|        Tours|        569|      228|\n",
      "| 17|      Angers|     Bordeaux|        301|      120|\n",
      "| 18|      Nantes|     Bordeaux|        335|      134|\n",
      "| 19|      Nantes|     Grenoble|        574|      230|\n",
      "| 20|    Grenoble|    Marseille|        337|      135|\n",
      "+---+------------+-------------+-----------+---------+\n",
      "only showing top 20 rows\n",
      "\n",
      "root\n",
      " |-- id: integer (nullable = false)\n",
      " |-- ville_depart: string (nullable = true)\n",
      " |-- ville_arrivee: string (nullable = true)\n",
      " |-- distance_km: integer (nullable = false)\n",
      " |-- duree_min: integer (nullable = false)\n",
      "\n",
      "+-------+------------------+------------+-------------+------------------+-----------------+\n",
      "|summary|                id|ville_depart|ville_arrivee|       distance_km|        duree_min|\n",
      "+-------+------------------+------------+-------------+------------------+-----------------+\n",
      "|  count|               100|         100|          100|               100|              100|\n",
      "|   mean|              50.5|        NULL|         NULL|            391.04|           156.44|\n",
      "| stddev|29.011491975882016|        NULL|         NULL|201.47837039586588|80.55317836966177|\n",
      "|    min|                 1|      Angers|       Angers|                30|               12|\n",
      "|    25%|                25|        NULL|         NULL|               228|               91|\n",
      "|    50%|                50|        NULL|         NULL|               349|              140|\n",
      "|    75%|                75|        NULL|         NULL|               559|              224|\n",
      "|    max|               100|       Tours|        Tours|               820|              328|\n",
      "+-------+------------------+------------+-------------+------------------+-----------------+\n",
      "\n"
     ]
    },
    {
     "data": {
      "text/plain": [
       "dfTrajets = [id: int, ville_depart: string ... 3 more fields]\n"
      ]
     },
     "metadata": {},
     "output_type": "display_data"
    },
    {
     "data": {
      "text/plain": [
       "[id: int, ville_depart: string ... 3 more fields]"
      ]
     },
     "execution_count": 5,
     "metadata": {},
     "output_type": "execute_result"
    }
   ],
   "source": [
    "import spark.implicits._\n",
    "\n",
    "// Transformer le RDD en DataFrame\n",
    "val dfTrajets = trajets.toDF()\n",
    "\n",
    "println(\"Nombre de trajets : \" + dfTrajets.count())\n",
    "\n",
    "dfTrajets.show()\n",
    "\n",
    "dfTrajets.printSchema()\n",
    "\n",
    "// Statistiques résumées sur toutes les colonnes numériques\n",
    "dfTrajets.summary().show()"
   ]
  },
  {
   "cell_type": "markdown",
   "id": "5cb2a84c",
   "metadata": {},
   "source": [
    "## Étape 2 - Extraction de dimensions"
   ]
  },
  {
   "cell_type": "code",
   "execution_count": 10,
   "id": "c48bdeeb",
   "metadata": {},
   "outputs": [
    {
     "name": "stdout",
     "output_type": "stream",
     "text": [
      "+---+-----------+---------+---------------+----------------+\n",
      "| id|distance_km|duree_min|id_ville_depart|id_ville_arrivee|\n",
      "+---+-----------+---------+---------------+----------------+\n",
      "|  1|        470|      188|              0|               8|\n",
      "|  2|        290|      116|              1|              13|\n",
      "|  3|        315|      126|              6|               8|\n",
      "|  4|        335|      134|              5|               9|\n",
      "|  5|        309|      124|              2|               1|\n",
      "|  6|        323|      129|              5|               1|\n",
      "|  7|        468|      187|              4|               1|\n",
      "|  8|        310|      124|              1|              10|\n",
      "|  9|        516|      206|              5|               8|\n",
      "| 10|        157|       63|             14|               1|\n",
      "| 11|        515|      206|              1|              13|\n",
      "| 12|        562|      225|             10|              13|\n",
      "| 13|        290|      116|              8|               0|\n",
      "| 14|        263|      105|              4|              13|\n",
      "| 15|        128|       53|              3|              12|\n",
      "| 16|        569|      228|             14|              13|\n",
      "| 17|        301|      120|              3|               9|\n",
      "| 18|        335|      134|              5|               9|\n",
      "| 19|        574|      230|              5|               2|\n",
      "| 20|        337|      135|              2|               6|\n",
      "+---+-----------+---------+---------------+----------------+\n",
      "only showing top 20 rows\n",
      "\n"
     ]
    },
    {
     "data": {
      "text/plain": [
       "lastException = null\n",
       "spark = org.apache.spark.sql.SparkSession@34440609\n",
       "dfTrajets = [id: int, ville_depart: string ... 3 more fields]\n",
       "dfVillesDepart = [ville_depart: string, id_ville_depart: bigint]\n",
       "dfVillesArrivee = [ville_arrivee: string, id_ville_arrivee: bigint]\n",
       "dfTrajetsJoin1 = [ville_depart: string, id: int ... 4 more fields]\n",
       "dfTrajetsFinal = [ville_arrivee: string, ville_depart: string ... 5 more fields]\n",
       "dfTrajetsClean = [id: int, distance_km: int ...\n"
      ]
     },
     "metadata": {},
     "output_type": "display_data"
    },
    {
     "data": {
      "text/plain": [
       "[id: int, distance_km: int ..."
      ]
     },
     "execution_count": 10,
     "metadata": {},
     "output_type": "execute_result"
    }
   ],
   "source": [
    "import org.apache.spark.sql.SparkSession\n",
    "import org.apache.spark.sql.functions.monotonically_increasing_id\n",
    "val spark = SparkSession.builder().appName(\"Atelier Spark Scala\").master(\"local[*]\").getOrCreate()\n",
    "import spark.implicits._\n",
    "\n",
    "val dfTrajets = spark.read.option(\"header\", true).option(\"inferSchema\", true).csv(\"data/Trajets_train.csv\")\n",
    "\n",
    "// Dimension : villes de départ\n",
    "val dfVillesDepart = dfTrajets.select(\"ville_depart\").distinct()\n",
    "  .withColumn(\"id_ville_depart\", monotonically_increasing_id())\n",
    "\n",
    "// Dimension : villes d’arrivée\n",
    "val dfVillesArrivee = dfTrajets.select(\"ville_arrivee\").distinct()\n",
    "  .withColumn(\"id_ville_arrivee\", monotonically_increasing_id())\n",
    "\n",
    "// Ajouter l’ID de la ville de départ\n",
    "val dfTrajetsJoin1 = dfTrajets.join(dfVillesDepart, Seq(\"ville_depart\"))\n",
    "\n",
    "// Ajouter l’ID de la ville d’arrivée\n",
    "val dfTrajetsFinal = dfTrajetsJoin1.join(dfVillesArrivee, Seq(\"ville_arrivee\"))\n",
    "\n",
    "// Nettoyer les colonnes littérales devenues inutiles\n",
    "val dfTrajetsClean = dfTrajetsFinal\n",
    "  .drop(\"ville_depart\")\n",
    "  .drop(\"ville_arrivee\")\n",
    "\n",
    "dfTrajetsClean.show()"
   ]
  },
  {
   "cell_type": "markdown",
   "id": "d4c3387a",
   "metadata": {},
   "source": [
    "## Étape 3 - Tables Hive, SQL"
   ]
  },
  {
   "cell_type": "code",
   "execution_count": 11,
   "id": "a3e21426",
   "metadata": {},
   "outputs": [
    {
     "name": "stdout",
     "output_type": "stream",
     "text": [
      "+---+-----------+---------+---------------+----------------+\n",
      "| id|distance_km|duree_min|id_ville_depart|id_ville_arrivee|\n",
      "+---+-----------+---------+---------------+----------------+\n",
      "|  1|        470|      188|              0|               8|\n",
      "|  2|        290|      116|              1|              13|\n",
      "|  3|        315|      126|              6|               8|\n",
      "|  4|        335|      134|              5|               9|\n",
      "|  5|        309|      124|              2|               1|\n",
      "+---+-----------+---------+---------------+----------------+\n",
      "\n",
      "+------------+---------------+\n",
      "|ville_depart|id_ville_depart|\n",
      "+------------+---------------+\n",
      "|        Nice|              0|\n",
      "|       Dijon|              1|\n",
      "|    Grenoble|              2|\n",
      "|      Angers|              3|\n",
      "|       Lille|              4|\n",
      "+------------+---------------+\n",
      "\n",
      "+----------+\n",
      "|nb_trajets|\n",
      "+----------+\n",
      "|       100|\n",
      "+----------+\n",
      "\n"
     ]
    },
    {
     "data": {
      "text/plain": [
       "hc = org.apache.spark.sql.hive.HiveContext@43c59bb4\n"
      ]
     },
     "metadata": {},
     "output_type": "display_data"
    },
    {
     "data": {
      "text/plain": [
       "warning: one deprecation (since 2.0.0); for details, enable `:setting -deprecation' or `:replay -deprecation'\n"
      ]
     },
     "metadata": {},
     "output_type": "display_data"
    },
    {
     "data": {
      "text/plain": [
       "org.apache.spark.sql.hive.HiveContext@43c59bb4"
      ]
     },
     "execution_count": 11,
     "metadata": {},
     "output_type": "execute_result"
    }
   ],
   "source": [
    "import org.apache.spark.sql.hive.HiveContext\n",
    "val hc = new HiveContext(sc)\n",
    "\n",
    "// Supprimer les tables existantes si nécessaire\n",
    "hc.sql(\"DROP TABLE IF EXISTS trajets\")\n",
    "hc.sql(\"DROP TABLE IF EXISTS villes_depart\")\n",
    "hc.sql(\"DROP TABLE IF EXISTS villes_arrivee\")\n",
    "\n",
    "// Enregistrer les DataFrames en tant que tables Hive\n",
    "dfTrajetsClean.write.mode(\"overwrite\").saveAsTable(\"trajets\")\n",
    "dfVillesDepart.write.mode(\"overwrite\").saveAsTable(\"villes_depart\")\n",
    "dfVillesArrivee.write.mode(\"overwrite\").saveAsTable(\"villes_arrivee\")\n",
    "\n",
    "// Vérifier les résultats avec quelques requêtes SQL\n",
    "hc.sql(\"SELECT * FROM trajets LIMIT 5\").show()\n",
    "hc.sql(\"SELECT * FROM villes_depart LIMIT 5\").show()\n",
    "hc.sql(\"SELECT COUNT(*) as nb_trajets FROM trajets\").show()\n"
   ]
  },
  {
   "cell_type": "markdown",
   "id": "8bad8187",
   "metadata": {},
   "source": [
    "# Séance 3 - Spark SQL (suite), Stats"
   ]
  },
  {
   "cell_type": "markdown",
   "id": "e7ec1186",
   "metadata": {},
   "source": [
    "## Étape 1 - Agrégations"
   ]
  },
  {
   "cell_type": "markdown",
   "id": "8479218c",
   "metadata": {},
   "source": [
    "### 1. Temps de trajet le plus court par ville de départ."
   ]
  },
  {
   "cell_type": "code",
   "execution_count": 15,
   "id": "9daf0f23",
   "metadata": {},
   "outputs": [
    {
     "name": "stdout",
     "output_type": "stream",
     "text": [
      "+------------+-------------+\n",
      "|ville_depart|duree_minimum|\n",
      "+------------+-------------+\n",
      "|        Nice|           68|\n",
      "|       Dijon|           22|\n",
      "|    Grenoble|           33|\n",
      "|      Angers|           28|\n",
      "|       Lille|           70|\n",
      "|      Nantes|          129|\n",
      "|   Marseille|           45|\n",
      "|       Paris|           49|\n",
      "|        Lyon|           12|\n",
      "|    Bordeaux|           17|\n",
      "|  Strasbourg|           54|\n",
      "|    Toulouse|           57|\n",
      "|      Rennes|           57|\n",
      "|       Tours|           74|\n",
      "|       Rouen|           32|\n",
      "+------------+-------------+\n",
      "\n"
     ]
    },
    {
     "data": {
      "text/plain": [
       "lastException = null\n",
       "dfTrajetsAvecVitesse = [id: int, distance_km: int ... 4 more fields]\n"
      ]
     },
     "metadata": {},
     "output_type": "display_data"
    },
    {
     "data": {
      "text/plain": [
       "[id: int, distance_km: int ... 4 more fields]"
      ]
     },
     "execution_count": 15,
     "metadata": {},
     "output_type": "execute_result"
    }
   ],
   "source": [
    "// On recrée un DataFrame avec la vitesse ajoutée (km / (min / 60) = km/h)\n",
    "val dfTrajetsAvecVitesse = dfTrajetsClean\n",
    "  .withColumn(\"vitesse_kmh\", $\"distance_km\" / ($\"duree_min\" / 60))\n",
    "\n",
    "dfTrajetsAvecVitesse.createOrReplaceTempView(\"trajets_vitesse\")\n",
    "\n",
    "hc.sql(\"\"\"\n",
    "  SELECT vd.ville_depart, MIN(t.duree_min) AS duree_minimum\n",
    "  FROM trajets_vitesse t\n",
    "  JOIN villes_depart vd ON t.id_ville_depart = vd.id_ville_depart\n",
    "  GROUP BY vd.ville_depart \n",
    "\"\"\").show()\n",
    "\n"
   ]
  },
  {
   "cell_type": "markdown",
   "id": "67f8aaf7",
   "metadata": {},
   "source": [
    "### 2. Temps de trajet le plus long par ville de départ"
   ]
  },
  {
   "cell_type": "code",
   "execution_count": 16,
   "id": "4af424e8",
   "metadata": {},
   "outputs": [
    {
     "name": "stdout",
     "output_type": "stream",
     "text": [
      "+------------+-------------+\n",
      "|ville_depart|duree_maximum|\n",
      "+------------+-------------+\n",
      "|        Nice|          227|\n",
      "|       Dijon|          258|\n",
      "|    Grenoble|          320|\n",
      "|      Angers|          237|\n",
      "|       Lille|          261|\n",
      "|      Nantes|          230|\n",
      "|   Marseille|          126|\n",
      "|       Paris|          300|\n",
      "|        Lyon|          276|\n",
      "|    Bordeaux|          224|\n",
      "|  Strasbourg|          328|\n",
      "|    Toulouse|          228|\n",
      "|      Rennes|          276|\n",
      "|       Tours|          252|\n",
      "|       Rouen|          266|\n",
      "+------------+-------------+\n",
      "\n"
     ]
    }
   ],
   "source": [
    "hc.sql(\"\"\"\n",
    "  SELECT vd.ville_depart, MAX(t.duree_min) AS duree_maximum\n",
    "  FROM trajets_vitesse t\n",
    "  JOIN villes_depart vd ON t.id_ville_depart = vd.id_ville_depart\n",
    "  GROUP BY vd.ville_depart\n",
    "\"\"\").show()\n"
   ]
  },
  {
   "cell_type": "markdown",
   "id": "09bbf0d9",
   "metadata": {},
   "source": [
    "### 3. Vitesse moyenne (km/h) par trajet"
   ]
  },
  {
   "cell_type": "code",
   "execution_count": 32,
   "id": "b52dc8fc",
   "metadata": {},
   "outputs": [
    {
     "name": "stdout",
     "output_type": "stream",
     "text": [
      "+------------+-------------+---------------+\n",
      "|ville_depart|ville_arrivee|vitesse_moyenne|\n",
      "+------------+-------------+---------------+\n",
      "|        Nice|     Bordeaux|          150.3|\n",
      "|      Angers|        Lille|          147.9|\n",
      "|    Toulouse|    Marseille|          150.3|\n",
      "|    Bordeaux|       Rennes|          150.0|\n",
      "|      Nantes|         Lyon|          150.3|\n",
      "|       Lille|   Strasbourg|          149.9|\n",
      "|       Lille|        Dijon|          150.2|\n",
      "|    Grenoble|     Toulouse|          149.9|\n",
      "|       Rouen|        Tours|          150.2|\n",
      "|    Grenoble|        Dijon|          149.5|\n",
      "|  Strasbourg|        Paris|          150.0|\n",
      "|        Lyon|   Strasbourg|          150.2|\n",
      "|      Angers|     Bordeaux|          150.5|\n",
      "|      Nantes|       Angers|          150.0|\n",
      "|      Nantes|        Dijon|          150.2|\n",
      "|    Grenoble|       Rennes|          150.2|\n",
      "|      Angers|         Nice|          150.1|\n",
      "|       Lille|    Marseille|          150.1|\n",
      "|       Rouen|        Dijon|          149.5|\n",
      "|       Tours|        Dijon|          150.0|\n",
      "+------------+-------------+---------------+\n",
      "only showing top 20 rows\n",
      "\n"
     ]
    },
    {
     "data": {
      "text/plain": [
       "dfVitesseMoyenne = [ville_depart: string, ville_arrivee: string ... 1 more field]\n"
      ]
     },
     "metadata": {},
     "output_type": "display_data"
    },
    {
     "data": {
      "text/plain": [
       "[ville_depart: string, ville_arrivee: string ... 1 more field]"
      ]
     },
     "execution_count": 32,
     "metadata": {},
     "output_type": "execute_result"
    }
   ],
   "source": [
    "val dfVitesseMoyenne = hc.sql(\"\"\"\n",
    "  SELECT \n",
    "    vd.ville_depart, \n",
    "    va.ville_arrivee, \n",
    "    ROUND(AVG(t.vitesse_kmh), 1) AS vitesse_moyenne\n",
    "  FROM trajets_vitesse t\n",
    "  JOIN villes_depart vd ON t.id_ville_depart = vd.id_ville_depart\n",
    "  JOIN villes_arrivee va ON t.id_ville_arrivee = va.id_ville_arrivee\n",
    "  GROUP BY vd.ville_depart, va.ville_arrivee\n",
    "\"\"\")\n",
    "\n",
    "dfVitesseMoyenne\n",
    "  .coalesce(1)\n",
    "  .write\n",
    "  .option(\"header\", \"true\")\n",
    "  .mode(\"overwrite\")\n",
    "  .csv(\"export/vitesse_moyenne_par_trajet\")\n",
    "\n",
    "  dfVitesseMoyenne.show()\n",
    "\n"
   ]
  },
  {
   "cell_type": "markdown",
   "id": "71babb90",
   "metadata": {},
   "source": [
    "### 4. Top 5 des trajets les plus lents (en km/h)\n"
   ]
  },
  {
   "cell_type": "code",
   "execution_count": 34,
   "id": "64b8f2d3",
   "metadata": {},
   "outputs": [
    {
     "name": "stdout",
     "output_type": "stream",
     "text": [
      "+------------+-------------+-----------+\n",
      "|ville_depart|ville_arrivee|vitesse_kmh|\n",
      "+------------+-------------+-----------+\n",
      "|      Angers|       Rennes|      144.9|\n",
      "|      Angers|        Lille|      147.9|\n",
      "|    Bordeaux|        Lille|      148.2|\n",
      "|        Lyon|       Rennes|      148.9|\n",
      "|    Toulouse|        Rouen|      149.1|\n",
      "+------------+-------------+-----------+\n",
      "\n"
     ]
    },
    {
     "data": {
      "text/plain": [
       "dfLents = [ville_depart: string, ville_arrivee: string ... 1 more field]\n"
      ]
     },
     "metadata": {},
     "output_type": "display_data"
    },
    {
     "data": {
      "text/plain": [
       "[ville_depart: string, ville_arrivee: string ... 1 more field]"
      ]
     },
     "execution_count": 34,
     "metadata": {},
     "output_type": "execute_result"
    }
   ],
   "source": [
    "val dfLents = hc.sql(\"\"\"\n",
    "  SELECT \n",
    "    vd.ville_depart, \n",
    "    va.ville_arrivee, \n",
    "    ROUND(t.distance_km / (t.duree_min / 60.0), 1) AS vitesse_kmh \n",
    "  FROM trajets t\n",
    "  JOIN villes_depart vd ON t.id_ville_depart = vd.id_ville_depart\n",
    "  JOIN villes_arrivee va ON t.id_ville_arrivee = va.id_ville_arrivee\n",
    "  ORDER BY vitesse_kmh ASC \n",
    "  LIMIT 5\n",
    "\"\"\")\n",
    "\n",
    "dfLents\n",
    "  .coalesce(1)\n",
    "  .write\n",
    "  .option(\"header\", \"true\")\n",
    "  .mode(\"overwrite\")\n",
    "  .csv(\"export/top5_trajets_lents\")\n",
    "\n",
    "dfLents.show()"
   ]
  },
  {
   "cell_type": "markdown",
   "id": "d93013ad",
   "metadata": {},
   "source": [
    "## 5. Nombre de départs par ville"
   ]
  },
  {
   "cell_type": "code",
   "execution_count": 35,
   "id": "23450e6e",
   "metadata": {},
   "outputs": [
    {
     "name": "stdout",
     "output_type": "stream",
     "text": [
      "+------------+---------+\n",
      "|ville_depart|nb_depart|\n",
      "+------------+---------+\n",
      "|  Strasbourg|       11|\n",
      "|       Dijon|       10|\n",
      "|        Lyon|       10|\n",
      "|       Lille|        9|\n",
      "|    Grenoble|        8|\n",
      "|       Paris|        7|\n",
      "|    Bordeaux|        7|\n",
      "|       Rouen|        7|\n",
      "|      Nantes|        6|\n",
      "|        Nice|        5|\n",
      "|      Angers|        5|\n",
      "|      Rennes|        5|\n",
      "|    Toulouse|        4|\n",
      "|   Marseille|        3|\n",
      "|       Tours|        3|\n",
      "+------------+---------+\n",
      "\n"
     ]
    },
    {
     "data": {
      "text/plain": [
       "dfNbDepart = [ville_depart: string, nb_depart: bigint]\n"
      ]
     },
     "metadata": {},
     "output_type": "display_data"
    },
    {
     "data": {
      "text/plain": [
       "[ville_depart: string, nb_depart: bigint]"
      ]
     },
     "execution_count": 35,
     "metadata": {},
     "output_type": "execute_result"
    }
   ],
   "source": [
    "val dfNbDepart = hc.sql(\"\"\"\n",
    "  SELECT vd.ville_depart, COUNT(*) AS nb_depart\n",
    "  FROM trajets t\n",
    "  JOIN villes_depart vd ON t.id_ville_depart = vd.id_ville_depart\n",
    "  GROUP BY vd.ville_depart\n",
    "  ORDER BY nb_depart DESC\n",
    "\"\"\")\n",
    "\n",
    "dfNbDepart\n",
    "  .coalesce(1)\n",
    "  .write\n",
    "  .option(\"header\", \"true\")\n",
    "  .mode(\"overwrite\")\n",
    "  .csv(\"export/nb_depart_par_ville\")\n",
    "\n",
    "  dfNbDepart.show()\n"
   ]
  },
  {
   "cell_type": "markdown",
   "id": "ba3cbf7e",
   "metadata": {},
   "source": [
    "## 6. Nombre d'arrivées par ville"
   ]
  },
  {
   "cell_type": "code",
   "execution_count": 36,
   "id": "e2255789",
   "metadata": {},
   "outputs": [
    {
     "name": "stdout",
     "output_type": "stream",
     "text": [
      "+-------------+----------+\n",
      "|ville_arrivee|nb_arrivee|\n",
      "+-------------+----------+\n",
      "|       Rennes|        13|\n",
      "|        Tours|        11|\n",
      "|        Lille|        10|\n",
      "|    Marseille|         9|\n",
      "|       Angers|         7|\n",
      "|   Strasbourg|         7|\n",
      "|        Dijon|         6|\n",
      "|       Nantes|         6|\n",
      "|     Bordeaux|         6|\n",
      "|         Nice|         5|\n",
      "|     Grenoble|         5|\n",
      "|     Toulouse|         5|\n",
      "|        Paris|         4|\n",
      "|         Lyon|         4|\n",
      "|        Rouen|         2|\n",
      "+-------------+----------+\n",
      "\n"
     ]
    },
    {
     "data": {
      "text/plain": [
       "dfNbArrivee = [ville_arrivee: string, nb_arrivee: bigint]\n"
      ]
     },
     "metadata": {},
     "output_type": "display_data"
    },
    {
     "data": {
      "text/plain": [
       "[ville_arrivee: string, nb_arrivee: bigint]"
      ]
     },
     "execution_count": 36,
     "metadata": {},
     "output_type": "execute_result"
    }
   ],
   "source": [
    "val dfNbArrivee = hc.sql(\"\"\"\n",
    "  SELECT va.ville_arrivee, COUNT(*) AS nb_arrivee\n",
    "  FROM trajets t\n",
    "  JOIN villes_arrivee va ON t.id_ville_arrivee = va.id_ville_arrivee\n",
    "  GROUP BY va.ville_arrivee\n",
    "  ORDER BY nb_arrivee DESC\n",
    "\"\"\")\n",
    "\n",
    "dfNbArrivee\n",
    "  .coalesce(1)\n",
    "  .write\n",
    "  .option(\"header\", \"true\")\n",
    "  .mode(\"overwrite\")\n",
    "  .csv(\"export/nb_arrivee_par_ville\")\n",
    "\n",
    "  dfNbArrivee.show()\n"
   ]
  }
 ],
 "metadata": {
  "kernelspec": {
   "display_name": "Apache Toree - Scala",
   "language": "scala",
   "name": "apache_toree_scala"
  },
  "language_info": {
   "codemirror_mode": "text/x-scala",
   "file_extension": ".scala",
   "mimetype": "text/x-scala",
   "name": "scala",
   "pygments_lexer": "scala",
   "version": "2.12.15"
  }
 },
 "nbformat": 4,
 "nbformat_minor": 5
}
