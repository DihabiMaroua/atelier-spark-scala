{
 "cells": [
  {
   "cell_type": "markdown",
   "id": "48c73ce4",
   "metadata": {},
   "source": [
    "# Séance 1 - Objectifs, chargement, traitement"
   ]
  },
  {
   "cell_type": "markdown",
   "id": "04042808",
   "metadata": {},
   "source": [
    "## Étape 1 - Choix de la source de données"
   ]
  },
  {
   "cell_type": "code",
   "execution_count": 2,
   "id": "4418372d",
   "metadata": {},
   "outputs": [
    {
     "data": {
      "text/plain": [
       "lastException = null\n",
       "spark = org.apache.spark.sql.SparkSession@58384a02\n"
      ]
     },
     "metadata": {},
     "output_type": "display_data"
    },
    {
     "data": {
      "text/plain": [
       "org.apache.spark.sql.SparkSession@58384a02"
      ]
     },
     "execution_count": 2,
     "metadata": {},
     "output_type": "execute_result"
    }
   ],
   "source": [
    "import org.apache.spark.sql.SparkSession\n",
    "\n",
    "val spark = SparkSession.builder()\n",
    "  .appName(\"Seance2\")\n",
    "  .master(\"local[*]\")\n",
    "  .getOrCreate()"
   ]
  },
  {
   "cell_type": "code",
   "execution_count": 3,
   "id": "577932b4",
   "metadata": {},
   "outputs": [
    {
     "name": "stdout",
     "output_type": "stream",
     "text": [
      "id,ville_depart,ville_arrivee,distance_km,duree_min\n",
      "1,Nice,Lyon,470,188\n",
      "2,Dijon,Tours,290,116\n",
      "3,Marseille,Lyon,315,126\n",
      "4,Nantes,Bordeaux,335,134\n",
      "5,Grenoble,Dijon,309,124\n",
      "6,Nantes,Dijon,323,129\n",
      "7,Lille,Dijon,468,187\n",
      "8,Dijon,Strasbourg,310,124\n",
      "9,Nantes,Lyon,516,206\n"
     ]
    },
    {
     "data": {
      "text/plain": [
       "lignes = data/Trajets_train.csv MapPartitionsRDD[3] at textFile at <console>:25\n"
      ]
     },
     "metadata": {},
     "output_type": "display_data"
    },
    {
     "data": {
      "text/plain": [
       "data/Trajets_train.csv MapPartitionsRDD[3] at textFile at <console>:25"
      ]
     },
     "execution_count": 3,
     "metadata": {},
     "output_type": "execute_result"
    }
   ],
   "source": [
    "val lignes = sc.textFile(\"data/Trajets_train.csv\")\n",
    "lignes.take(10).foreach(println)"
   ]
  },
  {
   "cell_type": "markdown",
   "id": "6c47712a",
   "metadata": {},
   "source": [
    "## Étape 2 – Persona\n",
    "\n",
    "**Type d’utilisateur :**  \n",
    "Agent de planification des transports (exemple : agent SNCF)\n",
    "\n",
    "**Persona :**  \n",
    "- **Nom :** Julien Dubois  \n",
    "- **Métier :** Agent SNCF  \n",
    "- **Objectif :** Améliorer les trajets entre les grandes villes\n",
    "\n",
    "**Indicateurs pertinents :**\n",
    "- Temps moyen de trajet par liaison (ville_depart → ville_arrivee)\n",
    "- Distance moyenne par liaison\n",
    "- Vitesse moyenne (km/h) par liaison\n",
    "- Les trajets les plus lents (vitesse basse)"
   ]
  },
  {
   "cell_type": "markdown",
   "id": "b5835d14",
   "metadata": {},
   "source": [
    "## Étape 3 - Chargement, pré-traitement"
   ]
  },
  {
   "cell_type": "code",
   "execution_count": 4,
   "id": "a0b317ce",
   "metadata": {},
   "outputs": [
    {
     "name": "stdout",
     "output_type": "stream",
     "text": [
      "Trajet(1,Nice,Lyon,470,188)\n",
      "Trajet(2,Dijon,Tours,290,116)\n",
      "Trajet(3,Marseille,Lyon,315,126)\n",
      "Trajet(4,Nantes,Bordeaux,335,134)\n",
      "Trajet(5,Grenoble,Dijon,309,124)\n"
     ]
    },
    {
     "data": {
      "text/plain": [
       "defined class Trajet\n",
       "lignesSansEntete = MapPartitionsRDD[4] at filter at <console>:34\n",
       "trajets = MapPartitionsRDD[5] at map at <console>:37\n"
      ]
     },
     "metadata": {},
     "output_type": "display_data"
    },
    {
     "data": {
      "text/plain": [
       "MapPartitionsRDD[5] at map at <console>:37"
      ]
     },
     "execution_count": 4,
     "metadata": {},
     "output_type": "execute_result"
    }
   ],
   "source": [
    "\n",
    "// Définition de la structure d’un trajet avec une case class\n",
    "case class Trajet(\n",
    "  id: Int,                 // Identifiant unique du trajet\n",
    "  ville_depart: String,    // Ville de départ\n",
    "  ville_arrivee: String,   // Ville d’arrivée\n",
    "  distance_km: Int,        // Distance en kilomètres\n",
    "  duree_min: Int           // Durée du trajet en minutes\n",
    ")\n",
    "\n",
    "val lignesSansEntete = lignes.filter(!_.startsWith(\"id\"))\n",
    "\n",
    "// Transformation de chaque ligne du CSV en un objet Trajet\n",
    "val trajets = lignesSansEntete.map { ligne =>\n",
    "  val champs = ligne.split(\",\")  // Découper la ligne en colonnes (tableau de chaînes)\n",
    "  Trajet(\n",
    "    champs(0).toInt,   // id\n",
    "    champs(1),         // ville_depart\n",
    "    champs(2),         // ville_arrivee\n",
    "    champs(3).toInt,   // distance_km\n",
    "    champs(4).toInt    // duree_min\n",
    "  )\n",
    "}\n",
    "\n",
    "trajets.take(5).foreach(println)\n"
   ]
  },
  {
   "cell_type": "markdown",
   "id": "749dea16",
   "metadata": {},
   "source": [
    "# Séance 2 - Ingestion, SparkSQL"
   ]
  },
  {
   "cell_type": "markdown",
   "id": "f36ea4a3",
   "metadata": {},
   "source": [
    "## Étape 1 : Transformer le RDD en DataFrame SparkSQL"
   ]
  },
  {
   "cell_type": "code",
   "execution_count": 5,
   "id": "2dcd3068",
   "metadata": {},
   "outputs": [
    {
     "name": "stdout",
     "output_type": "stream",
     "text": [
      "Nombre de trajets : 100\n",
      "+---+------------+-------------+-----------+---------+\n",
      "| id|ville_depart|ville_arrivee|distance_km|duree_min|\n",
      "+---+------------+-------------+-----------+---------+\n",
      "|  1|        Nice|         Lyon|        470|      188|\n",
      "|  2|       Dijon|        Tours|        290|      116|\n",
      "|  3|   Marseille|         Lyon|        315|      126|\n",
      "|  4|      Nantes|     Bordeaux|        335|      134|\n",
      "|  5|    Grenoble|        Dijon|        309|      124|\n",
      "|  6|      Nantes|        Dijon|        323|      129|\n",
      "|  7|       Lille|        Dijon|        468|      187|\n",
      "|  8|       Dijon|   Strasbourg|        310|      124|\n",
      "|  9|      Nantes|         Lyon|        516|      206|\n",
      "| 10|       Rouen|        Dijon|        157|       63|\n",
      "| 11|       Dijon|        Tours|        515|      206|\n",
      "| 12|  Strasbourg|        Tours|        562|      225|\n",
      "| 13|        Lyon|         Nice|        290|      116|\n",
      "| 14|       Lille|        Tours|        263|      105|\n",
      "| 15|      Angers|       Rennes|        298|      119|\n",
      "| 16|       Rouen|        Tours|        569|      228|\n",
      "| 17|      Angers|     Bordeaux|        301|      120|\n",
      "| 18|      Nantes|     Bordeaux|        335|      134|\n",
      "| 19|      Nantes|     Grenoble|        574|      230|\n",
      "| 20|    Grenoble|    Marseille|        337|      135|\n",
      "+---+------------+-------------+-----------+---------+\n",
      "only showing top 20 rows\n",
      "\n",
      "root\n",
      " |-- id: integer (nullable = false)\n",
      " |-- ville_depart: string (nullable = true)\n",
      " |-- ville_arrivee: string (nullable = true)\n",
      " |-- distance_km: integer (nullable = false)\n",
      " |-- duree_min: integer (nullable = false)\n",
      "\n",
      "+-------+------------------+------------+-------------+------------------+-----------------+\n",
      "|summary|                id|ville_depart|ville_arrivee|       distance_km|        duree_min|\n",
      "+-------+------------------+------------+-------------+------------------+-----------------+\n",
      "|  count|               100|         100|          100|               100|              100|\n",
      "|   mean|              50.5|        NULL|         NULL|            392.74|            157.1|\n",
      "| stddev|29.011491975882016|        NULL|         NULL|199.94790331584883|79.96533339800781|\n",
      "|    min|                 1|      Angers|       Angers|                30|               12|\n",
      "|    25%|                25|        NULL|         NULL|               235|               94|\n",
      "|    50%|                50|        NULL|         NULL|               349|              140|\n",
      "|    75%|                75|        NULL|         NULL|               559|              224|\n",
      "|    max|               100|       Tours|        Tours|               820|              328|\n",
      "+-------+------------------+------------+-------------+------------------+-----------------+\n",
      "\n"
     ]
    },
    {
     "data": {
      "text/plain": [
       "dfTrajets = [id: int, ville_depart: string ... 3 more fields]\n"
      ]
     },
     "metadata": {},
     "output_type": "display_data"
    },
    {
     "data": {
      "text/plain": [
       "[id: int, ville_depart: string ... 3 more fields]"
      ]
     },
     "execution_count": 5,
     "metadata": {},
     "output_type": "execute_result"
    }
   ],
   "source": [
    "import spark.implicits._\n",
    "\n",
    "// Transformer le RDD en DataFrame\n",
    "val dfTrajets = trajets.toDF()\n",
    "\n",
    "println(\"Nombre de trajets : \" + dfTrajets.count())\n",
    "\n",
    "dfTrajets.show()\n",
    "\n",
    "dfTrajets.printSchema()\n",
    "\n",
    "// Statistiques résumées sur toutes les colonnes numériques\n",
    "dfTrajets.summary().show()"
   ]
  },
  {
   "cell_type": "markdown",
   "id": "5cb2a84c",
   "metadata": {},
   "source": [
    "## Étape 2 - Extraction de dimensions"
   ]
  },
  {
   "cell_type": "code",
   "execution_count": 5,
   "id": "c48bdeeb",
   "metadata": {},
   "outputs": [
    {
     "name": "stdout",
     "output_type": "stream",
     "text": [
      "+---+-----------+---------+---------------+----------------+-----------------+\n",
      "| id|distance_km|duree_min|id_ville_depart|id_ville_arrivee|id_mode_transport|\n",
      "+---+-----------+---------+---------------+----------------+-----------------+\n",
      "|  1|        266|       57|              0|               8|                1|\n",
      "| 23|        516|      191|              0|               9|                1|\n",
      "| 37|        439|      370|              0|               4|                0|\n",
      "|  2|        290|      706|              1|              13|                2|\n",
      "|  8|        592|      351|              1|              10|                1|\n",
      "| 11|        515|     1989|              1|              13|                2|\n",
      "| 30|        409|       99|              1|               6|                1|\n",
      "| 42|         56|       58|              1|               6|                0|\n",
      "| 47|        145|      463|              1|               2|                2|\n",
      "|  5|        309|       87|              2|               1|                1|\n",
      "| 20|        337|      388|              2|               6|                0|\n",
      "| 26|        408|     1314|              2|              12|                2|\n",
      "| 33|         82|       30|              2|              13|                1|\n",
      "| 40|        557|      306|              2|               4|                1|\n",
      "| 15|        298|       78|              3|              12|                1|\n",
      "| 17|        301|      931|              3|               9|                2|\n",
      "|  7|        468|      252|              4|               1|                3|\n",
      "| 14|        263|      204|              4|              13|                3|\n",
      "| 21|        346|      275|              4|               3|                0|\n",
      "| 35|        386|      287|              4|               3|                3|\n",
      "+---+-----------+---------+---------------+----------------+-----------------+\n",
      "only showing top 20 rows\n",
      "\n"
     ]
    },
    {
     "data": {
      "text/plain": [
       "dfVillesDepart = [ville_depart: string, id_ville_depart: bigint]\n",
       "dfVillesArrivee = [ville_arrivee: string, id_ville_arrivee: bigint]\n",
       "dfModesTransport = [mode_transport: string, id_mode_transport: bigint]\n",
       "dfTrajetsJoin1 = [ville_depart: string, id: int ... 5 more fields]\n",
       "dfTrajetsJoin2 = [ville_arrivee: string, ville_depart: string ... 6 more fields]\n",
       "dfTrajetsFinal = [mode_transport: string, ville_arrivee: string ... 7 more fields]\n",
       "dfTrajetsClean = [id: int, distance_km: int ... 4 more fields]\n"
      ]
     },
     "metadata": {},
     "output_type": "display_data"
    },
    {
     "data": {
      "text/plain": [
       "[id: int, distance_km: int ... 4 more fields]"
      ]
     },
     "execution_count": 5,
     "metadata": {},
     "output_type": "execute_result"
    }
   ],
   "source": [
    "import org.apache.spark.sql.functions.monotonically_increasing_id\n",
    "\n",
    "// Dimension : villes de départ\n",
    "val dfVillesDepart = dfTrajets\n",
    "  .select(\"ville_depart\")\n",
    "  .distinct()\n",
    "  .withColumn(\"id_ville_depart\", monotonically_increasing_id())\n",
    "\n",
    "// Dimension : villes d’arrivée\n",
    "val dfVillesArrivee = dfTrajets\n",
    "  .select(\"ville_arrivee\")\n",
    "  .distinct()\n",
    "  .withColumn(\"id_ville_arrivee\", monotonically_increasing_id())\n",
    "\n",
    "// Dimension : modes de transport\n",
    "val dfModesTransport = dfTrajets\n",
    "  .select(\"mode_transport\")\n",
    "  .distinct()\n",
    "  .withColumn(\"id_mode_transport\", monotonically_increasing_id())\n",
    "\n",
    "// Ajouter l’ID de la ville de départ\n",
    "val dfTrajetsJoin1 = dfTrajets\n",
    "  .join(dfVillesDepart, Seq(\"ville_depart\"))\n",
    "\n",
    "// Ajouter l’ID de la ville d’arrivée\n",
    "val dfTrajetsJoin2 = dfTrajetsJoin1\n",
    "  .join(dfVillesArrivee, Seq(\"ville_arrivee\"))\n",
    "\n",
    "// Ajouter l’ID du mode de transport\n",
    "val dfTrajetsFinal = dfTrajetsJoin2\n",
    "  .join(dfModesTransport, Seq(\"mode_transport\"))\n",
    "\n",
    "val dfTrajetsClean = dfTrajetsFinal\n",
    "  .drop(\"ville_depart\")\n",
    "  .drop(\"ville_arrivee\")\n",
    "  .drop(\"mode_transport\")\n",
    "\n",
    "dfTrajetsClean.show()\n",
    "\n"
   ]
  },
  {
   "cell_type": "markdown",
   "id": "d4c3387a",
   "metadata": {},
   "source": [
    "## Étape 3 - Tables Hive, SQL"
   ]
  },
  {
   "cell_type": "code",
   "execution_count": 10,
   "id": "a3e21426",
   "metadata": {},
   "outputs": [
    {
     "name": "stdout",
     "output_type": "stream",
     "text": [
      "+---+------------+-------------+-----------+--------------+---------+\n",
      "| id|ville_depart|ville_arrivee|distance_km|mode_transport|duree_min|\n",
      "+---+------------+-------------+-----------+--------------+---------+\n",
      "|  1|        Nice|         Lyon|        266|         train|       57|\n",
      "|  5|    Grenoble|        Dijon|        309|         train|       87|\n",
      "|  8|       Dijon|   Strasbourg|        592|         train|      351|\n",
      "| 15|      Angers|       Rennes|        298|         train|       78|\n",
      "| 23|        Nice|     Bordeaux|        516|         train|      191|\n",
      "| 24|       Rouen|        Lille|         80|         train|       19|\n",
      "| 30|       Dijon|    Marseille|        409|         train|       99|\n",
      "| 31|    Bordeaux|        Lille|         42|         train|       13|\n",
      "| 32|       Paris|   Strasbourg|        228|         train|      128|\n",
      "| 33|    Grenoble|        Tours|         82|         train|       30|\n",
      "| 40|    Grenoble|        Lille|        557|         train|      306|\n",
      "| 51|       Lille|       Rennes|        104|         train|       26|\n",
      "| 52|      Rennes|       Angers|        689|         train|      315|\n",
      "| 54|       Tours|        Paris|        631|         train|      200|\n",
      "| 61|  Strasbourg|       Rennes|        614|         train|      166|\n",
      "| 65|       Tours|    Marseille|        195|         train|       56|\n",
      "| 67|    Grenoble|       Nantes|        525|         train|      132|\n",
      "| 81|      Angers|         Nice|        593|         train|      238|\n",
      "| 85|      Rennes|       Nantes|        332|         train|       94|\n",
      "| 90|    Bordeaux|        Paris|        529|         train|      109|\n",
      "+---+------------+-------------+-----------+--------------+---------+\n",
      "only showing top 20 rows\n",
      "\n",
      "+--------------+----------+\n",
      "|mode_transport|nb_trajets|\n",
      "+--------------+----------+\n",
      "|           bus|        22|\n",
      "|         train|        24|\n",
      "|          velo|        24|\n",
      "|       voiture|        30|\n",
      "+--------------+----------+\n",
      "\n",
      "+------------------+\n",
      "|  distance_moyenne|\n",
      "+------------------+\n",
      "|405.93333333333334|\n",
      "+------------------+\n",
      "\n"
     ]
    },
    {
     "data": {
      "text/plain": [
       "lastException = null\n",
       "hc = org.apache.spark.sql.hive.HiveContext@3e4baca9\n"
      ]
     },
     "metadata": {},
     "output_type": "display_data"
    },
    {
     "data": {
      "text/plain": [
       "warning: one deprecation (since 2.0.0); for details, enable `:setting -deprecation' or `:replay -deprecation'\n"
      ]
     },
     "metadata": {},
     "output_type": "display_data"
    },
    {
     "data": {
      "text/plain": [
       "org.apache.spark.sql.hive.HiveContext@3e4baca9"
      ]
     },
     "execution_count": 10,
     "metadata": {},
     "output_type": "execute_result"
    }
   ],
   "source": [
    "import org.apache.spark.sql.hive.HiveContext\n",
    "\n",
    "val hc = new HiveContext(sc)\n",
    "\n",
    " dfTrajets.write.mode(\"overwrite\").saveAsTable(\"trajets\")\n",
    " dfVillesDepart.write.mode(\"overwrite\").saveAsTable(\"villes_depart\")\n",
    " dfVillesArrivee.write.mode(\"overwrite\").saveAsTable(\"villes_arrivee\")\n",
    " dfModesTransport.write.mode(\"overwrite\").saveAsTable(\"modes_transport\")\n",
    "\n",
    "// 1. Tous les trajets en train\n",
    "hc.sql(\"SELECT * FROM trajets WHERE mode_transport = 'train'\").show()\n",
    "\n",
    "// 2. Nombre de trajets par mode de transport\n",
    "hc.sql(\"SELECT mode_transport, COUNT(*) as nb_trajets FROM trajets GROUP BY mode_transport\").show()\n",
    "\n",
    "// 3. Distance moyenne des trajets en voiture\n",
    "hc.sql(\"SELECT AVG(distance_km) as distance_moyenne FROM trajets WHERE mode_transport = 'voiture'\").show()\n"
   ]
  },
  {
   "cell_type": "markdown",
   "id": "8bad8187",
   "metadata": {},
   "source": [
    "# Séance 3 - Spark SQL (suite), Stats"
   ]
  },
  {
   "cell_type": "markdown",
   "id": "e7ec1186",
   "metadata": {},
   "source": [
    "## Étape 1 - Agrégations"
   ]
  },
  {
   "cell_type": "markdown",
   "id": "8479218c",
   "metadata": {},
   "source": [
    "### 1. Moyenne des vitesses par mode de transport"
   ]
  },
  {
   "cell_type": "code",
   "execution_count": 12,
   "id": "9daf0f23",
   "metadata": {},
   "outputs": [
    {
     "name": "stdout",
     "output_type": "stream",
     "text": [
      "+--------------+-------------------+\n",
      "|mode_transport|vitesse_moyenne_kmh|\n",
      "+--------------+-------------------+\n",
      "|           bus|              70.09|\n",
      "|         train|             197.86|\n",
      "|          velo|              18.50|\n",
      "|       voiture|              92.25|\n",
      "+--------------+-------------------+\n",
      "\n"
     ]
    }
   ],
   "source": [
    "hc.sql(\"\"\"\n",
    "  SELECT \n",
    "    mode_transport,\n",
    "    ROUND(AVG(distance_km * 60.0 / duree_min), 2) AS vitesse_moyenne_kmh\n",
    "  FROM trajets\n",
    "  GROUP BY mode_transport\n",
    "\"\"\").show()\n"
   ]
  },
  {
   "cell_type": "markdown",
   "id": "67f8aaf7",
   "metadata": {},
   "source": [
    "### 2. Nombre de trajets par mode de transport"
   ]
  },
  {
   "cell_type": "code",
   "execution_count": 13,
   "id": "4af424e8",
   "metadata": {},
   "outputs": [
    {
     "name": "stdout",
     "output_type": "stream",
     "text": [
      "+--------------+----------+\n",
      "|mode_transport|nb_trajets|\n",
      "+--------------+----------+\n",
      "|           bus|        22|\n",
      "|         train|        24|\n",
      "|          velo|        24|\n",
      "|       voiture|        30|\n",
      "+--------------+----------+\n",
      "\n"
     ]
    }
   ],
   "source": [
    "hc.sql(\"\"\"\n",
    "  SELECT \n",
    "    mode_transport,\n",
    "    COUNT(*) AS nb_trajets\n",
    "  FROM trajets\n",
    "  GROUP BY mode_transport\n",
    "\"\"\").show()"
   ]
  },
  {
   "cell_type": "markdown",
   "id": "09bbf0d9",
   "metadata": {},
   "source": [
    "### 3. Moyenne de la distance par mode de transport"
   ]
  },
  {
   "cell_type": "code",
   "execution_count": 14,
   "id": "b52dc8fc",
   "metadata": {},
   "outputs": [
    {
     "name": "stdout",
     "output_type": "stream",
     "text": [
      "+--------------+-------------------+\n",
      "|mode_transport|distance_moyenne_km|\n",
      "+--------------+-------------------+\n",
      "|           bus|              371.7|\n",
      "|         train|              392.6|\n",
      "|          velo|              304.9|\n",
      "|       voiture|              405.9|\n",
      "+--------------+-------------------+\n",
      "\n"
     ]
    }
   ],
   "source": [
    "hc.sql(\"\"\"\n",
    "  SELECT \n",
    "    mode_transport,\n",
    "    ROUND(AVG(distance_km), 1) AS distance_moyenne_km\n",
    "  FROM trajets\n",
    "  GROUP BY mode_transport\n",
    "\"\"\").show()\n"
   ]
  },
  {
   "cell_type": "markdown",
   "id": "71babb90",
   "metadata": {},
   "source": [
    "### 4. Top 5 des trajets en train les plus lents (en vitesse km/h)"
   ]
  },
  {
   "cell_type": "code",
   "execution_count": 18,
   "id": "64b8f2d3",
   "metadata": {},
   "outputs": [
    {
     "name": "stdout",
     "output_type": "stream",
     "text": [
      "+------------+-------------+-----------+---------+-----------+\n",
      "|ville_depart|ville_arrivee|distance_km|duree_min|vitesse_kmh|\n",
      "+------------+-------------+-----------+---------+-----------+\n",
      "|       Dijon|   Strasbourg|        592|      351|     101.20|\n",
      "|       Paris|   Strasbourg|        228|      128|     106.88|\n",
      "|    Grenoble|        Lille|        557|      306|     109.22|\n",
      "|       Paris|    Marseille|        150|       82|     109.76|\n",
      "|      Rennes|       Angers|        689|      315|     131.24|\n",
      "+------------+-------------+-----------+---------+-----------+\n",
      "\n"
     ]
    }
   ],
   "source": [
    "hc.sql(\"\"\"\n",
    "  SELECT \n",
    "    ville_depart,\n",
    "    ville_arrivee,\n",
    "    distance_km,\n",
    "    duree_min,\n",
    "    ROUND(distance_km * 60.0 / duree_min, 2) AS vitesse_kmh\n",
    "  FROM trajets\n",
    "  WHERE mode_transport = 'train'\n",
    "  ORDER BY vitesse_kmh ASC\n",
    "  LIMIT 5\n",
    "\"\"\").show()"
   ]
  },
  {
   "cell_type": "markdown",
   "id": "d93013ad",
   "metadata": {},
   "source": [
    "## 5. Trajets en train avec une durée anormalement élevée (ratio minutes/km élevé)"
   ]
  },
  {
   "cell_type": "code",
   "execution_count": 19,
   "id": "23450e6e",
   "metadata": {},
   "outputs": [
    {
     "name": "stdout",
     "output_type": "stream",
     "text": [
      "+------------+-------------+-----------+---------+----------+\n",
      "|ville_depart|ville_arrivee|distance_km|duree_min|min_par_km|\n",
      "+------------+-------------+-----------+---------+----------+\n",
      "|       Dijon|   Strasbourg|        592|      351|      0.59|\n",
      "|       Paris|   Strasbourg|        228|      128|      0.56|\n",
      "|       Paris|    Marseille|        150|       82|      0.55|\n",
      "|    Grenoble|        Lille|        557|      306|      0.55|\n",
      "|      Rennes|       Angers|        689|      315|      0.46|\n",
      "+------------+-------------+-----------+---------+----------+\n",
      "\n"
     ]
    }
   ],
   "source": [
    "hc.sql(\"\"\"\n",
    "  SELECT \n",
    "    ville_depart,\n",
    "    ville_arrivee,\n",
    "    distance_km,\n",
    "    duree_min,\n",
    "    ROUND(duree_min * 1.0 / distance_km, 2) AS min_par_km\n",
    "  FROM trajets\n",
    "  WHERE mode_transport = 'train' AND distance_km > 50\n",
    "  ORDER BY min_par_km DESC\n",
    "  LIMIT 5\n",
    "\"\"\").show()"
   ]
  },
  {
   "cell_type": "markdown",
   "id": "ba3cbf7e",
   "metadata": {},
   "source": [
    "## 6. Nombre de trajets par ville de départ"
   ]
  },
  {
   "cell_type": "code",
   "execution_count": 17,
   "id": "e2255789",
   "metadata": {},
   "outputs": [
    {
     "name": "stdout",
     "output_type": "stream",
     "text": [
      "+------------+-----------------+\n",
      "|ville_depart|nb_trajets_depart|\n",
      "+------------+-----------------+\n",
      "|  Strasbourg|               11|\n",
      "|       Dijon|               10|\n",
      "|        Lyon|               10|\n",
      "|       Lille|                9|\n",
      "|    Grenoble|                8|\n",
      "|       Paris|                7|\n",
      "|    Bordeaux|                7|\n",
      "|       Rouen|                7|\n",
      "|      Nantes|                6|\n",
      "|        Nice|                5|\n",
      "|      Angers|                5|\n",
      "|      Rennes|                5|\n",
      "|    Toulouse|                4|\n",
      "|   Marseille|                3|\n",
      "|       Tours|                3|\n",
      "+------------+-----------------+\n",
      "\n"
     ]
    }
   ],
   "source": [
    "hc.sql(\"\"\"\n",
    "  SELECT \n",
    "    ville_depart,\n",
    "    COUNT(*) AS nb_trajets_depart\n",
    "  FROM trajets\n",
    "  GROUP BY ville_depart\n",
    "  ORDER BY nb_trajets_depart DESC\n",
    "\"\"\").show()"
   ]
  }
 ],
 "metadata": {
  "kernelspec": {
   "display_name": "Apache Toree - Scala",
   "language": "scala",
   "name": "apache_toree_scala"
  },
  "language_info": {
   "codemirror_mode": "text/x-scala",
   "file_extension": ".scala",
   "mimetype": "text/x-scala",
   "name": "scala",
   "pygments_lexer": "scala",
   "version": "2.12.15"
  }
 },
 "nbformat": 4,
 "nbformat_minor": 5
}
